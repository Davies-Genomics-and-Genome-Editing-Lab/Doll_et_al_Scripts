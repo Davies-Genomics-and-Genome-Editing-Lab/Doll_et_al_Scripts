{
 "cells": [
  {
   "cell_type": "code",
   "execution_count": 8,
   "metadata": {},
   "outputs": [],
   "source": [
    "import pandas as pd\n",
    "import os\n",
    "from natsort import natsorted\n",
    "import glob\n",
    "import re\n",
    "from pathlib import Path"
   ]
  },
  {
   "cell_type": "code",
   "execution_count": null,
   "metadata": {},
   "outputs": [],
   "source": [
    "#Make list of files\n",
    "\n",
    "files = glob.glob(\"crispresso_outputs_JAK2\"+\"/*/\")\n",
    "print(files)\n",
    "\n",
    "MIN_READS = 500\n",
    "CO_MUT = 0.125\n",
    "CO_HOM = 0.15\n",
    "CO_HET = 0.8\n"
   ]
  },
  {
   "cell_type": "code",
   "execution_count": null,
   "metadata": {},
   "outputs": [],
   "source": [
    "data = []\n",
    "\n",
    "\n",
    "for file in natsorted(files):\n",
    "    cell = {}\n",
    "    path_indels = file + '/CRISPResso_quantification_of_editing_frequency.txt'\n",
    "    if Path(path_indels).exists():\n",
    "        df_percentage = df = pd.read_csv(path_indels, delimiter='\\t')\n",
    "        cell['reads_WT'] = df_percentage.iloc[0,5]\n",
    "        cell['reads_mutant'] = df_percentage.iloc[1,5]\n",
    "        cell['reads_total'] = cell['reads_WT']+cell['reads_mutant']\n",
    "        if cell['reads_total'] < MIN_READS:\n",
    "            cell['CRISPResso_pass'] = False\n",
    "            cell['well'] = file[file.find('CRISPResso_on_') + len('CRISPResso_on_'):file.find('CRISPResso_on_') + len('CRISPResso_on_')+4]\n",
    "            cell['plate'] = file[file.find('_001_') + len('_001_'):file.find('_001_') + len('_001_')+3]\n",
    "            cell['indel_WT'] = 'NA'\n",
    "            cell['indel_mutant'] = 'NA'\n",
    "        else:\n",
    "            cell['CRISPResso_pass'] = True\n",
    "            cell['well'] = file[file.find('CRISPResso_on_') + len('CRISPResso_on_'):file.find('CRISPResso_on_') + len('CRISPResso_on_')+4]\n",
    "            cell['plate'] = file[file.find('_001_') + len('_001_'):file.find('_001_') + len('_001_')+3]\n",
    "            cell['indel_WT'] = df_percentage.iloc[0,9]+df_percentage.iloc[0,10]\n",
    "            cell['indel_mutant'] = df_percentage.iloc[1,9]+df_percentage.iloc[1,10]\n",
    "    else:\n",
    "        cell['well'] = file[file.find('CRISPResso_on_') + len('CRISPResso_on_'):file.find('CRISPResso_on_') + len('CRISPResso_on_')+4]\n",
    "        cell['plate'] = file[file.find('_001_') + len('_001_'):file.find('_001_') + len('_001_')+3]\n",
    "        cell['CRISPResso_pass'] = False\n",
    "        cell['reads_total'] = 0\n",
    "        cell['reads_WT'] = 0\n",
    "        cell['reads_mutant'] = 0\n",
    "        cell['indel_WT'] = 'NA'\n",
    "        cell['indel_mutant'] = 'NA'\n",
    "    data.append(cell)\n",
    "\n",
    "\n",
    " "
   ]
  },
  {
   "cell_type": "code",
   "execution_count": null,
   "metadata": {},
   "outputs": [],
   "source": [
    "for cell in data: \n",
    "    cell['percent_WT'] = cell['reads_WT']/(cell['reads_WT']+cell['reads_mutant'])\n",
    "    cell['percent_mutant'] = cell['reads_mutant']/(cell['reads_WT']+cell['reads_mutant'])\n",
    "    cell['percent_indels_WT'] = cell['indel_WT']/cell['reads_WT']\n",
    "    cell['percent_indels_mutant'] = cell['indel_mutant']/cell['reads_mutant']\n",
    "    if cell['CRISPResso_pass']:\n",
    "        if cell['percent_mutant'] < CO_MUT:\n",
    "            cell['genotype'] = 'WT-WT'\n",
    "        elif cell['percent_mutant'] < 1-CO_MUT:\n",
    "            cell['genotype'] = 'WT-MUT'\n",
    "        else:\n",
    "            cell['genotype'] = 'MUT-MUT'\n",
    "    else:\n",
    "        cell['genotype'] = 'FAILED'\n",
    "\n",
    "\n"
   ]
  },
  {
   "cell_type": "code",
   "execution_count": null,
   "metadata": {},
   "outputs": [],
   "source": [
    "for cell in data:\n",
    "    if cell['CRISPResso_pass']:\n",
    "        if cell['genotype'] == 'WT-WT':\n",
    "            if cell['percent_indels_WT'] < CO_HOM:\n",
    "                cell['genotype_edited'] = 'WT-WT'\n",
    "            elif cell['percent_indels_WT'] < 1-CO_HOM:\n",
    "                cell['genotype_edited'] = 'WT-WTx'\n",
    "            else:\n",
    "                cell['genotype_edited'] = 'WTx-WTx'\n",
    "        elif cell['genotype'] == 'MUT-MUT':\n",
    "            if cell['percent_indels_mutant'] < CO_HOM:\n",
    "                cell['genotype_edited'] = 'MUT-MUT'\n",
    "            elif cell['percent_indels_mutant'] < 1-CO_HOM:\n",
    "                cell['genotype_edited'] = 'MUT-MUTx'\n",
    "            else:\n",
    "                cell['genotype_edited'] = 'MUTx-MUTx'\n",
    "        elif cell['genotype'] == 'WT-MUT':\n",
    "            if cell['percent_indels_WT'] < CO_HET and cell['percent_indels_mutant'] < 1-CO_HET:\n",
    "                cell['genotype_edited'] = 'WT-MUT'\n",
    "            elif cell['percent_indels_WT'] < CO_HET and cell['percent_indels_mutant'] < CO_HET:\n",
    "                cell['genotype_edited'] = 'WT-MUTa' #%Indels on the mutant allele should be 0 or 1, so anything that isnt close to 0 or 1 is ambiguous\n",
    "            elif cell['percent_indels_WT'] < CO_HET and cell['percent_indels_mutant'] > CO_HET:\n",
    "                cell['genotype_edited'] = 'WT-MUTx'\n",
    "            elif cell['percent_indels_WT'] > CO_HET and cell['percent_indels_mutant'] < CO_HET:\n",
    "                cell['genotype_edited'] = 'WTx-MUT'\n",
    "            elif cell['percent_indels_WT'] > CO_HET and cell['percent_indels_mutant'] > CO_HET:\n",
    "                cell['genotype_edited'] = 'WTx-MUTx'\n",
    "    else:\n",
    "        cell['genotype_edited'] = 'FAILED'\n",
    "\n",
    "df = pd.DataFrame(data)\n",
    "df.to_csv('data_JAK2.csv', index=False)"
   ]
  }
 ],
 "metadata": {
  "kernelspec": {
   "display_name": "Python 3",
   "language": "python",
   "name": "python3"
  },
  "language_info": {
   "codemirror_mode": {
    "name": "ipython",
    "version": 3
   },
   "file_extension": ".py",
   "mimetype": "text/x-python",
   "name": "python",
   "nbconvert_exporter": "python",
   "pygments_lexer": "ipython3",
   "version": "3.12.9"
  }
 },
 "nbformat": 4,
 "nbformat_minor": 2
}
