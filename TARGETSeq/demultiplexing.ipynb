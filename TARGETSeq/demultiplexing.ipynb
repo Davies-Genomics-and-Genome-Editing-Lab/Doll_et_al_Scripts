{
 "cells": [
  {
   "cell_type": "code",
   "execution_count": 1,
   "metadata": {},
   "outputs": [],
   "source": [
    "import os\n",
    "import subprocess\n",
    "from glob import glob\n",
    "from natsort import natsorted"
   ]
  },
  {
   "cell_type": "code",
   "execution_count": null,
   "metadata": {},
   "outputs": [],
   "source": [
    "r1_files = natsorted(glob(\"FASTQ_DIR\"+\"/*_R1_001.fastq.gz\"))\n",
    "r2_files = natsorted(glob(\"FASTQ_DIR\"+\"/*_R2_001.fastq.gz\"))"
   ]
  },
  {
   "cell_type": "code",
   "execution_count": null,
   "metadata": {},
   "outputs": [],
   "source": [
    "def demultiplex_R1(file):\n",
    "    command = \"demultiplex demux -r -e 6 barcodes_R1.tsv \"+file+\" -p OUTPUT_DIR\"\n",
    "    return command\n",
    "\n",
    "def demultiplex_R2(file):\n",
    "    command = \"demultiplex demux -r -e 6 barcodes_R2.tsv \"+file+\" -p OUTPUT_DIR\"\n",
    "    return command"
   ]
  },
  {
   "cell_type": "code",
   "execution_count": null,
   "metadata": {},
   "outputs": [],
   "source": [
    "#R1 files\n",
    "with open(\"tmp.sh\", \"w\") as f5:\n",
    "        f5.writelines(\"#!/bin/sh\\n\")\n",
    "        f5.writelines(\"source /PATH_TO_ENV\\n\")\n",
    "        for file in r1_files:\n",
    "            f5.writelines(demultiplex_R1(file) + \"\\n\")"
   ]
  },
  {
   "cell_type": "code",
   "execution_count": null,
   "metadata": {},
   "outputs": [
    {
     "name": "stdout",
     "output_type": "stream",
     "text": [
      "Submitted batch job 3092435\n"
     ]
    },
    {
     "data": {
      "text/plain": [
       "CompletedProcess(args=['sbatch', '-p', 'short', '--ntasks=4', '--mem=40G', 'tmp.sh'], returncode=0)"
      ]
     },
     "execution_count": 10,
     "metadata": {},
     "output_type": "execute_result"
    }
   ],
   "source": [
    "\n",
    "subprocess.run([\"sbatch\", \"-p\", \"short\", \"--ntasks=4\", \"--mem=40G\", \"demux_R1.sh\"])"
   ]
  },
  {
   "cell_type": "code",
   "execution_count": null,
   "metadata": {},
   "outputs": [],
   "source": [
    "#R2 files\n",
    "with open(\"demux_R2.sh\", \"w\") as f5:\n",
    "        f5.writelines(\"#!/bin/sh\\n\")\n",
    "        f5.writelines(\"source /PATH_TO_ENV\\n\")\n",
    "        for file in r2_files:\n",
    "            f5.writelines(demultiplex_R2(file) + \"\\n\")"
   ]
  },
  {
   "cell_type": "code",
   "execution_count": 12,
   "metadata": {},
   "outputs": [
    {
     "name": "stdout",
     "output_type": "stream",
     "text": [
      "Submitted batch job 3092438\n"
     ]
    },
    {
     "data": {
      "text/plain": [
       "CompletedProcess(args=['sbatch', '-p', 'short', '--ntasks=4', '--mem=40G', 'demux_R2.sh'], returncode=0)"
      ]
     },
     "execution_count": 12,
     "metadata": {},
     "output_type": "execute_result"
    }
   ],
   "source": [
    "subprocess.run([\"sbatch\", \"-p\", \"short\", \"--ntasks=4\", \"--mem=40G\", \"demux_R2.sh\"])"
   ]
  }
 ],
 "metadata": {
  "kernelspec": {
   "display_name": "Python 3",
   "language": "python",
   "name": "python3"
  },
  "language_info": {
   "codemirror_mode": {
    "name": "ipython",
    "version": 3
   },
   "file_extension": ".py",
   "mimetype": "text/x-python",
   "name": "python",
   "nbconvert_exporter": "python",
   "pygments_lexer": "ipython3",
   "version": "3.12.9"
  }
 },
 "nbformat": 4,
 "nbformat_minor": 2
}
