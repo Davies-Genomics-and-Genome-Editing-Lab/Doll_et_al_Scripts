{
 "cells": [
  {
   "cell_type": "code",
   "execution_count": 2,
   "metadata": {},
   "outputs": [],
   "source": [
    "import pandas as pd\n",
    "import os\n",
    "from natsort import natsorted\n",
    "import glob\n",
    "import re\n",
    "from pathlib import Path\n",
    "import subprocess\n",
    "import gzip"
   ]
  },
  {
   "cell_type": "code",
   "execution_count": 2,
   "metadata": {},
   "outputs": [],
   "source": [
    "def create_empty_fastq_gz(filename):\n",
    "    with gzip.open(filename, 'wb') as f:\n",
    "        pass  # Writing nothing creates an empty file"
   ]
  },
  {
   "cell_type": "code",
   "execution_count": 12,
   "metadata": {},
   "outputs": [
    {
     "name": "stdout",
     "output_type": "stream",
     "text": [
      "2304 2304\n"
     ]
    }
   ],
   "source": [
    "#Get rid of undemultiplexed files\n",
    "r1_files = natsorted(glob.glob(\"20250417_demux/*R1_001_*.fastq.gz\"))\n",
    "r1_files = [ x for x in r1_files if \"UNKNOWN\" not in x ]\n",
    "r2_files = natsorted(glob.glob(\"20250417_demux/*R2_001_*.fastq.gz\"))\n",
    "r2_files = [ x for x in r2_files if \"UNKNOWN\" not in x ]\n",
    "\n",
    "print(len(r1_files), len(r2_files))"
   ]
  },
  {
   "cell_type": "code",
   "execution_count": null,
   "metadata": {},
   "outputs": [],
   "source": [
    "#filter out unpaired reads\n",
    "def run_seqkit_pair(r1, r2):             \n",
    "    command = f\"seqkit pair -1 {r1} -2 {r2} -O OUTPUT_DIR\"\n",
    "    return command   "
   ]
  },
  {
   "cell_type": "code",
   "execution_count": null,
   "metadata": {},
   "outputs": [],
   "source": [
    "with open(\"seqkit.sh\", \"w\") as f5:\n",
    "        f5.writelines(\"#!/bin/sh\\n\")\n",
    "        f5.writelines(\"source /PATH_TO_ENV\\n\")\n",
    "        for read1, read2 in zip(r1_files, r2_files):\n",
    "            f5.writelines(run_seqkit_pair(read1, read2) + \"\\n\")     "
   ]
  },
  {
   "cell_type": "code",
   "execution_count": 15,
   "metadata": {},
   "outputs": [
    {
     "name": "stdout",
     "output_type": "stream",
     "text": [
      "Submitted batch job 3092692\n"
     ]
    },
    {
     "data": {
      "text/plain": [
       "CompletedProcess(args=['sbatch', '-p', 'short', '--ntasks=4', '--mem=40G', 'seqkit.sh'], returncode=0)"
      ]
     },
     "execution_count": 15,
     "metadata": {},
     "output_type": "execute_result"
    }
   ],
   "source": [
    "subprocess.run([\"sbatch\", \"-p\", \"short\", \"--ntasks=4\", \"--mem=40G\", \"seqkit.sh\"])"
   ]
  },
  {
   "cell_type": "code",
   "execution_count": null,
   "metadata": {},
   "outputs": [],
   "source": [
    "def crispresso_JAK2_command(r1, r2):\n",
    "    command = [\n",
    "        \"CRISPResso\",\n",
    "        \"--fastq_r1\", r1,\n",
    "        \"-r2\", r2,\n",
    "        \"--min_average_read_quality\", \"30\",\n",
    "        \"--plot_window_size\", \"11\",\n",
    "        \"--cleavage_offset\", \"1\",\n",
    "        \"--suppress_plots\",\n",
    "        \"--amplicon_name\", \"JAK2_WT,JAK2_V617F\",\n",
    "        \"--guide_seq\", \"TGTGGAGACGAGAGTAAGTA\",\n",
    "        \"--amplicon_seq\", \n",
    "        \"TTATGGACAACAGTCAAACAACAATTCTTTGTACTTTTTTTTTTCCTTAGTCTTTCTTTGAAGCAGCAAGTATGATGAGCAAGCTTTCTCACAAGCATTTGGTTTTAAATTATGGAGTATGTGTCTGTGGAGACGAGAGTAAGTAAAACTACAGGCTTTCTAATGCCTTTCTCAGAGCATCTGTTTTT,\"\n",
    "        \"TTATGGACAACAGTCAAACAACAATTCTTTGTACTTTTTTTTTTCCTTAGTCTTTCTTTGAAGCAGCAAGTATGATGAGCAAGCTTTCTCACAAGCATTTGGTTTTAAATTATGGAGTATGTTTCTGTGGAGACGAGAGTAAGTAAAACTACAGGCTTTCTAATGCCTTTCTCAGAGCATCTGTTTTT\",\n",
    "        \"--quantification_window_center\", \"1\",\n",
    "        \"--quantification_window_size\", \"15\",\n",
    "        \"--guide_seq\", \"TGTGGAGACGAGAGTAAGTA\",\n",
    "        \"--output_folder\", \"crispresso_outputs_JAK2\"\n",
    "    ]\n",
    "    return command\n",
    "    \n"
   ]
  },
  {
   "cell_type": "code",
   "execution_count": null,
   "metadata": {},
   "outputs": [],
   "source": [
    "with open(\"crispresso.sh\", \"w\") as f5:\n",
    "        f5.writelines(\"#!/bin/sh\\n\")\n",
    "        f5.writelines(\"source /PATH_TO_ENV\\n\")\n",
    "        for read1, read2 in zip(r1_files, r2_files):\n",
    "            f5.writelines(\" \".join(crispresso_JAK2_command(read1, read2)) + \"\\n\")"
   ]
  },
  {
   "cell_type": "code",
   "execution_count": 7,
   "metadata": {},
   "outputs": [
    {
     "name": "stdout",
     "output_type": "stream",
     "text": [
      "Submitted batch job 3106420\n"
     ]
    },
    {
     "data": {
      "text/plain": [
       "CompletedProcess(args=['sbatch', '-p', 'long', '--time=20:00:00', '--ntasks=8', '--mem=50G', 'crispresso.sh'], returncode=0)"
      ]
     },
     "execution_count": 7,
     "metadata": {},
     "output_type": "execute_result"
    }
   ],
   "source": [
    "subprocess.run([\"sbatch\", \"-p\", \"long\", \"--time=20:00:00\", \"--ntasks=8\", \"--mem=50G\", \"crispresso.sh\"])"
   ]
  }
 ],
 "metadata": {
  "kernelspec": {
   "display_name": "Python 3",
   "language": "python",
   "name": "python3"
  },
  "language_info": {
   "codemirror_mode": {
    "name": "ipython",
    "version": 3
   },
   "file_extension": ".py",
   "mimetype": "text/x-python",
   "name": "python",
   "nbconvert_exporter": "python",
   "pygments_lexer": "ipython3",
   "version": "3.12.9"
  }
 },
 "nbformat": 4,
 "nbformat_minor": 2
}
